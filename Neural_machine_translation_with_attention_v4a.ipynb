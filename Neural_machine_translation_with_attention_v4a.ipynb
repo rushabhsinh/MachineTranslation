{
 "cells": [
  {
   "cell_type": "markdown",
   "metadata": {
    "id": "adTDe2CTh3MU"
   },
   "source": [
    "# Neural Machine Translation\n",
    "* You will build a Neural Machine Translation (NMT) model to translate human-readable dates (\"25th of June, 2009\") into machine-readable dates (\"2009-06-25\"). \n",
    "* You will do this using an attention model, one of the most sophisticated sequence-to-sequence models. \n"
   ]
  },
  {
   "cell_type": "code",
   "execution_count": 1,
   "metadata": {
    "colab": {
     "base_uri": "https://localhost:8080/"
    },
    "executionInfo": {
     "elapsed": 14508,
     "status": "ok",
     "timestamp": 1612468511651,
     "user": {
      "displayName": "Mubsi K",
      "photoUrl": "https://lh3.googleusercontent.com/a-/AOh14Gip7OjOkdNkKxKDyWEQAq1o8ccGN_HrBTGdqjgQ=s64",
      "userId": "08094225471505108399"
     },
     "user_tz": -300
    },
    "id": "RcBRMzPiiMmp",
    "outputId": "17e9a429-5bb6-4401-a23a-f8f756d6113d"
   },
   "outputs": [],
   "source": [
    "from tensorflow.keras.layers import Bidirectional, Concatenate, Permute, Dot, Input, LSTM, Multiply\n",
    "from tensorflow.keras.layers import RepeatVector, Dense, Activation, Lambda\n",
    "from tensorflow.keras.optimizers import Adam\n",
    "from tensorflow.keras.utils import to_categorical\n",
    "from tensorflow.keras.models import load_model, Model\n",
    "import tensorflow.keras.backend as K\n",
    "import tensorflow as tf\n",
    "import numpy as np\n",
    "\n",
    "from faker import Faker\n",
    "import random\n",
    "from tqdm import tqdm\n",
    "from babel.dates import format_date\n",
    "from nmt_utils import *\n",
    "import matplotlib.pyplot as plt\n",
    "%matplotlib inline"
   ]
  },
  {
   "cell_type": "code",
   "execution_count": 2,
   "metadata": {},
   "outputs": [
    {
     "data": {
      "text/plain": [
       "'Apr 1, 2007'"
      ]
     },
     "execution_count": 2,
     "metadata": {},
     "output_type": "execute_result"
    }
   ],
   "source": [
    "from datetime import date, datetime, time\n",
    "d = date(2007, 4, 1)\n",
    "format_date(d, locale='en')"
   ]
  },
  {
   "cell_type": "code",
   "execution_count": 3,
   "metadata": {},
   "outputs": [
    {
     "data": {
      "text/plain": [
       "'Sunday, April 1, 2007'"
      ]
     },
     "execution_count": 3,
     "metadata": {},
     "output_type": "execute_result"
    }
   ],
   "source": [
    "format_date(d, format='full', locale='en')"
   ]
  },
  {
   "cell_type": "code",
   "execution_count": 4,
   "metadata": {},
   "outputs": [
    {
     "name": "stderr",
     "output_type": "stream",
     "text": [
      "100%|██████████████████████████████████████████████████████████████████████████████████| 2/2 [00:00<00:00, 1014.96it/s]\n"
     ]
    },
    {
     "data": {
      "text/plain": [
       "([('9 may 1998', '1998-05-09'), ('10.11.19', '2019-11-10')],\n",
       " {' ': 0,\n",
       "  '.': 1,\n",
       "  '0': 2,\n",
       "  '1': 3,\n",
       "  '8': 4,\n",
       "  '9': 5,\n",
       "  'a': 6,\n",
       "  'm': 7,\n",
       "  'y': 8,\n",
       "  '<unk>': 9,\n",
       "  '<pad>': 10},\n",
       " {'-': 0, '0': 1, '1': 2, '2': 3, '5': 4, '8': 5, '9': 6},\n",
       " {0: '-', 1: '0', 2: '1', 3: '2', 4: '5', 5: '8', 6: '9'})"
      ]
     },
     "execution_count": 4,
     "metadata": {},
     "output_type": "execute_result"
    }
   ],
   "source": [
    "load_dataset(2)   #returns a tuple"
   ]
  },
  {
   "cell_type": "markdown",
   "metadata": {
    "id": "8BhEaJvph3Mf"
   },
   "source": [
    "<a name='1-1'></a>\n",
    "### Dataset\n",
    "\n",
    "We will train the model on a dataset of 10,000 human readable dates and their equivalent, standardized, machine readable dates. Let's run the following cells to load the dataset and print some examples. "
   ]
  },
  {
   "cell_type": "code",
   "execution_count": 5,
   "metadata": {
    "colab": {
     "base_uri": "https://localhost:8080/"
    },
    "executionInfo": {
     "elapsed": 16981,
     "status": "ok",
     "timestamp": 1612468514155,
     "user": {
      "displayName": "Mubsi K",
      "photoUrl": "https://lh3.googleusercontent.com/a-/AOh14Gip7OjOkdNkKxKDyWEQAq1o8ccGN_HrBTGdqjgQ=s64",
      "userId": "08094225471505108399"
     },
     "user_tz": -300
    },
    "id": "gwIf5l17h3Mg",
    "outputId": "1fca5fb8-3a9b-4a78-f726-7aef8e14ee41"
   },
   "outputs": [
    {
     "name": "stderr",
     "output_type": "stream",
     "text": [
      "100%|█████████████████████████████████████████████████████████████████████████| 10000/10000 [00:00<00:00, 17668.07it/s]\n"
     ]
    }
   ],
   "source": [
    "m = 10000\n",
    "dataset, human_vocab, machine_vocab, inv_machine_vocab = load_dataset(m)"
   ]
  },
  {
   "cell_type": "code",
   "execution_count": 6,
   "metadata": {
    "colab": {
     "base_uri": "https://localhost:8080/"
    },
    "executionInfo": {
     "elapsed": 16972,
     "status": "ok",
     "timestamp": 1612468514156,
     "user": {
      "displayName": "Mubsi K",
      "photoUrl": "https://lh3.googleusercontent.com/a-/AOh14Gip7OjOkdNkKxKDyWEQAq1o8ccGN_HrBTGdqjgQ=s64",
      "userId": "08094225471505108399"
     },
     "user_tz": -300
    },
    "id": "zCTqMyPch3Mg",
    "outputId": "42c9d8aa-d07b-4618-ab8a-4db4e1b971e2",
    "scrolled": false
   },
   "outputs": [
    {
     "data": {
      "text/plain": [
       "[('9/10/70', '1970-09-10'),\n",
       " ('saturday april 28 1990', '1990-04-28'),\n",
       " ('thursday january 26 1995', '1995-01-26'),\n",
       " ('monday march 7 1983', '1983-03-07'),\n",
       " ('sunday may 22 1988', '1988-05-22'),\n",
       " ('08 jul 2008', '2008-07-08'),\n",
       " ('8 sep 1999', '1999-09-08'),\n",
       " ('thursday january 1 1981', '1981-01-01'),\n",
       " ('monday may 22 1995', '1995-05-22'),\n",
       " ('friday june 16 1978', '1978-06-16')]"
      ]
     },
     "execution_count": 6,
     "metadata": {},
     "output_type": "execute_result"
    }
   ],
   "source": [
    "dataset[:10]"
   ]
  },
  {
   "cell_type": "markdown",
   "metadata": {
    "id": "ao4Ffrkxh3Mg"
   },
   "source": [
    "You've loaded:\n",
    "- `dataset`: a list of tuples of (human readable date, machine readable date).\n",
    "- `human_vocab`: a python dictionary mapping all characters used in the human readable dates to an integer-valued index.\n",
    "- `machine_vocab`: a python dictionary mapping all characters used in machine readable dates to an integer-valued index. \n",
    "    - **Note**: These indices are not necessarily consistent with `human_vocab`. \n",
    "- `inv_machine_vocab`: the inverse dictionary of `machine_vocab`, mapping from indices back to characters. \n",
    "\n",
    "Let's preprocess the data and map the raw text data into the index values. \n",
    "- We will set Tx=30 \n",
    "    - We assume Tx is the maximum length of the human readable date.\n",
    "    - If we get a longer input, we would have to truncate it.\n",
    "- We will set Ty=10\n",
    "    - \"YYYY-MM-DD\" is 10 characters long."
   ]
  },
  {
   "cell_type": "code",
   "execution_count": 7,
   "metadata": {},
   "outputs": [
    {
     "data": {
      "text/plain": [
       "{' ': 0,\n",
       " '.': 1,\n",
       " '/': 2,\n",
       " '0': 3,\n",
       " '1': 4,\n",
       " '2': 5,\n",
       " '3': 6,\n",
       " '4': 7,\n",
       " '5': 8,\n",
       " '6': 9,\n",
       " '7': 10,\n",
       " '8': 11,\n",
       " '9': 12,\n",
       " 'a': 13,\n",
       " 'b': 14,\n",
       " 'c': 15,\n",
       " 'd': 16,\n",
       " 'e': 17,\n",
       " 'f': 18,\n",
       " 'g': 19,\n",
       " 'h': 20,\n",
       " 'i': 21,\n",
       " 'j': 22,\n",
       " 'l': 23,\n",
       " 'm': 24,\n",
       " 'n': 25,\n",
       " 'o': 26,\n",
       " 'p': 27,\n",
       " 'r': 28,\n",
       " 's': 29,\n",
       " 't': 30,\n",
       " 'u': 31,\n",
       " 'v': 32,\n",
       " 'w': 33,\n",
       " 'y': 34,\n",
       " '<unk>': 35,\n",
       " '<pad>': 36}"
      ]
     },
     "execution_count": 7,
     "metadata": {},
     "output_type": "execute_result"
    }
   ],
   "source": [
    "human_vocab"
   ]
  },
  {
   "cell_type": "code",
   "execution_count": 8,
   "metadata": {},
   "outputs": [
    {
     "data": {
      "text/plain": [
       "[PhysicalDevice(name='/physical_device:CPU:0', device_type='CPU')]"
      ]
     },
     "execution_count": 8,
     "metadata": {},
     "output_type": "execute_result"
    }
   ],
   "source": [
    "tf.config.list_physical_devices()"
   ]
  },
  {
   "cell_type": "code",
   "execution_count": 9,
   "metadata": {},
   "outputs": [
    {
     "data": {
      "text/plain": [
       "<function nmt_utils.preprocess_data(dataset, human_vocab, machine_vocab, Tx, Ty)>"
      ]
     },
     "execution_count": 9,
     "metadata": {},
     "output_type": "execute_result"
    }
   ],
   "source": [
    "preprocess_data"
   ]
  },
  {
   "cell_type": "code",
   "execution_count": 10,
   "metadata": {
    "colab": {
     "base_uri": "https://localhost:8080/"
    },
    "executionInfo": {
     "elapsed": 16962,
     "status": "ok",
     "timestamp": 1612468514157,
     "user": {
      "displayName": "Mubsi K",
      "photoUrl": "https://lh3.googleusercontent.com/a-/AOh14Gip7OjOkdNkKxKDyWEQAq1o8ccGN_HrBTGdqjgQ=s64",
      "userId": "08094225471505108399"
     },
     "user_tz": -300
    },
    "id": "Qdso90EBh3Mg",
    "outputId": "0a364ad8-8b25-4de3-f036-d5d8e40bdf8c"
   },
   "outputs": [
    {
     "name": "stdout",
     "output_type": "stream",
     "text": [
      "X.shape: (10000, 30)\n",
      "Y.shape: (10000, 10)\n",
      "Xoh.shape: (10000, 30, 37)\n",
      "Yoh.shape: (10000, 10, 11)\n"
     ]
    }
   ],
   "source": [
    "Tx = 30\n",
    "Ty = 10\n",
    "X, Y, Xoh, Yoh = preprocess_data(dataset, human_vocab, machine_vocab, Tx, Ty)\n",
    "\n",
    "print(\"X.shape:\", X.shape)\n",
    "print(\"Y.shape:\", Y.shape)\n",
    "print(\"Xoh.shape:\", Xoh.shape)\n",
    "print(\"Yoh.shape:\", Yoh.shape)"
   ]
  },
  {
   "cell_type": "markdown",
   "metadata": {
    "id": "q9C0UY25h3Mh"
   },
   "source": [
    "You now have:\n",
    "- `X`: a processed version of the human readable dates in the training set.\n",
    "    - Each character in X is replaced by an index (integer) mapped to the character using `human_vocab`. \n",
    "    - Each date is padded to ensure a length of $T_x$ using a special character (< pad >). \n",
    "    - `X.shape = (m, Tx)` where m is the number of training examples in a batch.\n",
    "- `Y`: a processed version of the machine readable dates in the training set.\n",
    "    - Each character is replaced by the index (integer) it is mapped to in `machine_vocab`. \n",
    "    - `Y.shape = (m, Ty)`. \n",
    "- `Xoh`: one-hot version of `X`\n",
    "    - Each index in `X` is converted to the one-hot representation (if the index is 2, the one-hot version has the index position 2 set to 1, and the remaining positions are 0.\n",
    "    - `Xoh.shape = (m, Tx, len(human_vocab))`\n",
    "- `Yoh`: one-hot version of `Y`\n",
    "    - Each index in `Y` is converted to the one-hot representation. \n",
    "    - `Yoh.shape = (m, Ty, len(machine_vocab))`. \n",
    "    - `len(machine_vocab) = 11` since there are 10 numeric digits (0 to 9) and the `-` symbol."
   ]
  },
  {
   "cell_type": "markdown",
   "metadata": {
    "id": "N7qKvWrTh3Mh"
   },
   "source": [
    "* Let's also look at some examples of preprocessed training examples. \n",
    "* Feel free to play with `index` in the cell below to navigate the dataset and see how source/target dates are preprocessed. "
   ]
  },
  {
   "cell_type": "code",
   "execution_count": 11,
   "metadata": {
    "colab": {
     "base_uri": "https://localhost:8080/"
    },
    "executionInfo": {
     "elapsed": 16952,
     "status": "ok",
     "timestamp": 1612468514158,
     "user": {
      "displayName": "Mubsi K",
      "photoUrl": "https://lh3.googleusercontent.com/a-/AOh14Gip7OjOkdNkKxKDyWEQAq1o8ccGN_HrBTGdqjgQ=s64",
      "userId": "08094225471505108399"
     },
     "user_tz": -300
    },
    "id": "kUOayR4gh3Mh",
    "outputId": "d20994de-bbea-4cc7-ffaf-38a05974c9db"
   },
   "outputs": [
    {
     "name": "stdout",
     "output_type": "stream",
     "text": [
      "Source date: 9/10/70\n",
      "Target date: 1970-09-10\n",
      "\n",
      "Source after preprocessing (indices) (X): [12  2  4  3  2 10  3 36 36 36 36 36 36 36 36 36 36 36 36 36 36 36 36 36\n",
      " 36 36 36 36 36 36]\n",
      "Target after preprocessing (indices) (Y): [ 2 10  8  1  0  1 10  0  2  1]\n",
      "\n",
      "Source after preprocessing (one-hot) (Xoh): [[0. 0. 0. ... 0. 0. 0.]\n",
      " [0. 0. 1. ... 0. 0. 0.]\n",
      " [0. 0. 0. ... 0. 0. 0.]\n",
      " ...\n",
      " [0. 0. 0. ... 0. 0. 1.]\n",
      " [0. 0. 0. ... 0. 0. 1.]\n",
      " [0. 0. 0. ... 0. 0. 1.]]\n",
      "Target after preprocessing (one-hot) (Yoh): [[0. 0. 1. 0. 0. 0. 0. 0. 0. 0. 0.]\n",
      " [0. 0. 0. 0. 0. 0. 0. 0. 0. 0. 1.]\n",
      " [0. 0. 0. 0. 0. 0. 0. 0. 1. 0. 0.]\n",
      " [0. 1. 0. 0. 0. 0. 0. 0. 0. 0. 0.]\n",
      " [1. 0. 0. 0. 0. 0. 0. 0. 0. 0. 0.]\n",
      " [0. 1. 0. 0. 0. 0. 0. 0. 0. 0. 0.]\n",
      " [0. 0. 0. 0. 0. 0. 0. 0. 0. 0. 1.]\n",
      " [1. 0. 0. 0. 0. 0. 0. 0. 0. 0. 0.]\n",
      " [0. 0. 1. 0. 0. 0. 0. 0. 0. 0. 0.]\n",
      " [0. 1. 0. 0. 0. 0. 0. 0. 0. 0. 0.]]\n"
     ]
    }
   ],
   "source": [
    "index = 0\n",
    "print(\"Source date:\", dataset[index][0])\n",
    "print(\"Target date:\", dataset[index][1])\n",
    "print()\n",
    "print(\"Source after preprocessing (indices) (X):\", X[index])\n",
    "print(\"Target after preprocessing (indices) (Y):\", Y[index])\n",
    "print()\n",
    "print(\"Source after preprocessing (one-hot) (Xoh):\", Xoh[index])\n",
    "print(\"Target after preprocessing (one-hot) (Yoh):\", Yoh[index])"
   ]
  },
  {
   "cell_type": "markdown",
   "metadata": {
    "id": "94o4RYbOh3Mi"
   },
   "source": [
    "<a name='2'></a>\n",
    "## 2 - Neural Machine Translation with Attention\n",
    "\n",
    "* If you had to translate a book's paragraph from French to English, you would not read the whole paragraph, then close the book and translate. \n",
    "* Even during the translation process, you would read/re-read and focus on the parts of the French paragraph corresponding to the parts of the English you are writing down. \n",
    "* The attention mechanism tells a Neural Machine Translation model where it should pay attention to at any step. \n",
    "\n",
    "<a name='2-1'></a>\n",
    "### 2.1 - Attention Mechanism\n",
    "\n",
    "In this part, you will implement the attention mechanism presented in the lecture videos. \n",
    "* Here is a figure to remind you how the model works. \n",
    "    * The diagram on the left shows the attention model. \n",
    "    * The diagram on the right shows what one \"attention\" step does to calculate the attention variables $\\alpha^{\\langle t, t' \\rangle}$.\n",
    "    * The attention variables $\\alpha^{\\langle t, t' \\rangle}$ are used to compute the context variable $context^{\\langle t \\rangle}$ for each timestep in the output ($t=1, \\ldots, T_y$). \n",
    "\n",
    "<table>\n",
    "<td> \n",
    "<img src=\"images/attn_model.png\" style=\"width:500;height:500px;\"> <br>\n",
    "</td> \n",
    "<td> \n",
    "<img src=\"images/attn_mechanism.png\" style=\"width:500;height:500px;\"> <br>\n",
    "</td> \n",
    "</table>\n",
    "<caption><center> **Figure 1**: Neural machine translation with attention</center></caption>\n"
   ]
  },
  {
   "cell_type": "markdown",
   "metadata": {
    "id": "b2TkQnykh3Mi"
   },
   "source": [
    "Here are some properties of the model that you may notice: \n",
    "\n",
    "#### Pre-attention and Post-attention LSTMs on both sides of the attention mechanism\n",
    "- There are two separate LSTMs in this model (see diagram on the left): pre-attention and post-attention LSTMs.\n",
    "- *Pre-attention* Bi-LSTM is the one at the bottom of the picture is a Bi-directional LSTM and comes *before* the attention mechanism.\n",
    "    - The attention mechanism is shown in the middle of the left-hand diagram.\n",
    "    - The pre-attention Bi-LSTM goes through $T_x$ time steps\n",
    "- *Post-attention* LSTM: at the top of the diagram comes *after* the attention mechanism. \n",
    "    - The post-attention LSTM goes through $T_y$ time steps. \n",
    "\n",
    "- The post-attention LSTM passes the hidden state $s^{\\langle t \\rangle}$ and cell state $c^{\\langle t \\rangle}$ from one time step to the next. "
   ]
  },
  {
   "cell_type": "markdown",
   "metadata": {
    "id": "JpznWuWqh3Mi"
   },
   "source": [
    "#### An LSTM has both a hidden state and cell state\n",
    "\n",
    "* In this assignment, we are using an LSTM instead of a basic RNN.\n",
    "    * So the LSTM has both the hidden state $s^{\\langle t\\rangle}$ and the cell state $c^{\\langle t\\rangle}$. "
   ]
  },
  {
   "cell_type": "markdown",
   "metadata": {
    "id": "85btUzl4h3Mj"
   },
   "source": [
    "#### Each time step does not use predictions from the previous time step\n",
    "* Unlike previous text generation examples earlier in the course, in this model, the post-attention LSTM at time $t$ does not take the previous time step's prediction $y^{\\langle t-1 \\rangle}$ as input.\n",
    "* The post-attention LSTM at time 't' only takes the hidden state $s^{\\langle t\\rangle}$ and cell state $c^{\\langle t\\rangle}$ as input. \n",
    "* We have designed the model this way because unlike language generation (where adjacent characters are highly correlated) there isn't as strong a dependency between the previous character and the next character in a YYYY-MM-DD date."
   ]
  },
  {
   "cell_type": "markdown",
   "metadata": {
    "id": "NYT3v7rUh3Mk"
   },
   "source": [
    "#### Concatenation of hidden states from the forward and backward pre-attention LSTMs\n",
    "- $\\overrightarrow{a}^{\\langle t \\rangle}$: hidden state of the forward-direction, pre-attention LSTM.\n",
    "- $\\overleftarrow{a}^{\\langle t \\rangle}$: hidden state of the backward-direction, pre-attention LSTM.\n",
    "- $a^{\\langle t \\rangle} = [\\overrightarrow{a}^{\\langle t \\rangle}, \\overleftarrow{a}^{\\langle t \\rangle}]$: the concatenation of the activations of both the forward-direction $\\overrightarrow{a}^{\\langle t \\rangle}$ and backward-directions $\\overleftarrow{a}^{\\langle t \\rangle}$ of the pre-attention Bi-LSTM. "
   ]
  },
  {
   "cell_type": "markdown",
   "metadata": {
    "id": "97GUKCqwh3Mk"
   },
   "source": [
    "#### Computing \"energies\" $e^{\\langle t, t' \\rangle}$ as a function of $s^{\\langle t-1 \\rangle}$ and $a^{\\langle t' \\rangle}$\n",
    "- \n",
    "    - \"e\" is called the \"energies\" variable.\n",
    "    - $s^{\\langle t-1 \\rangle}$ is the hidden state of the post-attention LSTM\n",
    "    - $a^{\\langle t' \\rangle}$ is the hidden state of the pre-attention LSTM.\n",
    "    - $s^{\\langle t-1 \\rangle}$ and $a^{\\langle t \\rangle}$ are fed into a simple neural network, which learns the function to output $e^{\\langle t, t' \\rangle}$.\n",
    "    - $e^{\\langle t, t' \\rangle}$ is then used when computing the attention $a^{\\langle t, t' \\rangle}$ that $y^{\\langle t \\rangle}$ should pay to $a^{\\langle t' \\rangle}$."
   ]
  },
  {
   "cell_type": "markdown",
   "metadata": {
    "id": "scu_HnPNh3Mk"
   },
   "source": [
    "- The diagram on the right of figure 1 uses a `RepeatVector` node to copy $s^{\\langle t-1 \\rangle}$'s value $T_x$ times.\n",
    "- Then it uses `Concatenation` to concatenate $s^{\\langle t-1 \\rangle}$ and $a^{\\langle t \\rangle}$.\n",
    "- The concatenation of $s^{\\langle t-1 \\rangle}$ and $a^{\\langle t \\rangle}$ is fed into a \"Dense\" layer, which computes $e^{\\langle t, t' \\rangle}$. \n",
    "- $e^{\\langle t, t' \\rangle}$ is then passed through a softmax to compute $\\alpha^{\\langle t, t' \\rangle}$.\n",
    "- Note that the diagram doesn't explicitly show variable $e^{\\langle t, t' \\rangle}$, but $e^{\\langle t, t' \\rangle}$ is above the Dense layer and below the Softmax layer in the diagram in the right half of figure 1.\n",
    "- We'll explain how to use `RepeatVector` and `Concatenation` in Keras below. "
   ]
  },
  {
   "cell_type": "markdown",
   "metadata": {
    "id": "_ukmqe_Yh3Ml"
   },
   "source": [
    "#### Implementation Details\n",
    "   \n",
    "Let's implement this neural translator. You will start by implementing two functions: `one_step_attention()` and `model()`.\n",
    "\n",
    "#### one_step_attention\n",
    "* The inputs to the one_step_attention at time step $t$ are:\n",
    "    - $[a^{<1>},a^{<2>}, ..., a^{<T_x>}]$: all hidden states of the pre-attention Bi-LSTM.\n",
    "    - $s^{<t-1>}$: the previous hidden state of the post-attention LSTM \n",
    "* one_step_attention computes:\n",
    "    - $[\\alpha^{<t,1>},\\alpha^{<t,2>}, ..., \\alpha^{<t,T_x>}]$: the attention weights\n",
    "    - $context^{ \\langle t \\rangle }$: the context vector:\n",
    "    \n",
    "$$context^{<t>} = \\sum_{t' = 1}^{T_x} \\alpha^{<t,t'>}a^{<t'>}\\tag{1}$$ \n",
    "\n",
    "##### Clarifying 'context' and 'c'\n",
    "\n",
    "- In the assignment, we are calling the context $context^{\\langle t \\rangle}$.\n",
    "    - This is to avoid confusion with the post-attention LSTM's internal memory cell variable, which is also denoted $c^{\\langle t \\rangle}$."
   ]
  },
  {
   "cell_type": "markdown",
   "metadata": {
    "id": "LIfLKkwoh3Ml"
   },
   "source": [
    "<a name='ex-1'></a>\n",
    "### Exercise 1 - one_step_attention \n",
    "\n",
    "Implement `one_step_attention()`. \n",
    "\n",
    "* The function `model()` will call the layers in `one_step_attention()` $T_y$ times using a for-loop.\n",
    "* It is important that all $T_y$ copies have the same weights. \n",
    "    * It should not reinitialize the weights every time. \n",
    "    * In other words, all $T_y$ steps should have shared weights. \n",
    "* Here's how you can implement layers with shareable weights in Keras:\n",
    "    1. Define the layer objects in a variable scope that is outside of the `one_step_attention` function.  For example, defining the objects as global variables would work.\n",
    "        - Note that defining these variables inside the scope of the function `model` would technically work, since `model` will then call the `one_step_attention` function.  For the purposes of making grading and troubleshooting easier, we are defining these as global variables.  Note that the automatic grader will expect these to be global variables as well.\n",
    "    2. Call these objects when propagating the input.\n",
    "* We have defined the layers you need as global variables. \n",
    "    * Please run the following cells to create them. \n",
    "    * Please note that the automatic grader expects these global variables with the given variable names.  For grading purposes, please do not rename the global variables.\n",
    "* Please check the Keras documentation to learn more about these layers.  The layers are functions.  Below are examples of how to call these functions.\n",
    "    * [RepeatVector()](https://www.tensorflow.org/api_docs/python/tf/keras/layers/RepeatVector)\n",
    "```Python\n",
    "var_repeated = repeat_layer(var1)\n",
    "```\n",
    "    * [Concatenate()](https://www.tensorflow.org/api_docs/python/tf/keras/layers/Concatenate)   \n",
    "```Python\n",
    "concatenated_vars = concatenate_layer([var1,var2,var3])\n",
    "```\n",
    "    * [Dense()](https://keras.io/layers/core/#dense)  \n",
    "```Python\n",
    "var_out = dense_layer(var_in)\n",
    "```\n",
    "    * [Activation()](https://keras.io/layers/core/#activation)  \n",
    "```Python\n",
    "activation = activation_layer(var_in)  \n",
    "```\n",
    "    * [Dot()](https://www.tensorflow.org/api_docs/python/tf/keras/layers/Dot)  \n",
    "```Python\n",
    "dot_product = dot_layer([var1,var2])\n",
    "```"
   ]
  },
  {
   "cell_type": "code",
   "execution_count": 12,
   "metadata": {
    "executionInfo": {
     "elapsed": 16950,
     "status": "ok",
     "timestamp": 1612468514158,
     "user": {
      "displayName": "Mubsi K",
      "photoUrl": "https://lh3.googleusercontent.com/a-/AOh14Gip7OjOkdNkKxKDyWEQAq1o8ccGN_HrBTGdqjgQ=s64",
      "userId": "08094225471505108399"
     },
     "user_tz": -300
    },
    "id": "Cvop5Apyh3Mm"
   },
   "outputs": [],
   "source": [
    "# Defined shared layers as global variables\n",
    "repeator = RepeatVector(Tx)\n",
    "concatenator = Concatenate(axis=-1)\n",
    "densor1 = Dense(10, activation = \"tanh\")\n",
    "densor2 = Dense(1, activation = \"relu\")\n",
    "activator = Activation(softmax, name='attention_weights') # We are using a custom softmax(axis = 1) loaded in this notebook\n",
    "dotor = Dot(axes = 1)"
   ]
  },
  {
   "cell_type": "code",
   "execution_count": 13,
   "metadata": {
    "executionInfo": {
     "elapsed": 16950,
     "status": "ok",
     "timestamp": 1612468514159,
     "user": {
      "displayName": "Mubsi K",
      "photoUrl": "https://lh3.googleusercontent.com/a-/AOh14Gip7OjOkdNkKxKDyWEQAq1o8ccGN_HrBTGdqjgQ=s64",
      "userId": "08094225471505108399"
     },
     "user_tz": -300
    },
    "id": "mZuMOnTDh3Mn"
   },
   "outputs": [],
   "source": [
    "def one_step_attention(a, s_prev):\n",
    "    \"\"\"\n",
    "    Performs one step of attention: Outputs a context vector computed as a dot product of the attention weights\n",
    "    \"alphas\" and the hidden states \"a\" of the Bi-LSTM.\n",
    "    \n",
    "    Arguments:\n",
    "    a -- hidden state output of the Bi-LSTM, numpy-array of shape (m, Tx, 2*n_a)\n",
    "    s_prev -- previous hidden state of the (post-attention) LSTM, numpy-array of shape (m, n_s)\n",
    "    \n",
    "    Returns:\n",
    "    context -- context vector, input of the next (post-attention) LSTM cell\n",
    "    \"\"\"\n",
    "    \n",
    "    ### START CODE HERE ###\n",
    "    # Use repeator to repeat s_prev to be of shape (m, Tx, n_s) so that you can concatenate it with all hidden states \"a\" (≈ 1 line)\n",
    "    s_prev = repeator(s_prev)\n",
    "    # Use concatenator to concatenate a and s_prev on the last axis (≈ 1 line)\n",
    "    # For grading purposes, please list 'a' first and 's_prev' second, in this order.\n",
    "    concat = concatenator([a,s_prev])\n",
    "    # Use densor1 to propagate concat through a small fully-connected neural network to compute the \"intermediate energies\" variable e. (≈1 lines)\n",
    "    e = densor1(concat)\n",
    "    # Use densor2 to propagate e through a small fully-connected neural network to compute the \"energies\" variable energies. (≈1 lines)\n",
    "    energies = densor2(e)\n",
    "    # Use \"activator\" on \"energies\" to compute the attention weights \"alphas\" (≈ 1 line)\n",
    "    alphas = activator(energies)\n",
    "    # Use dotor together with \"alphas\" and \"a\", in this order, to compute the context vector to be given to the next (post-attention) LSTM-cell (≈ 1 line)\n",
    "    context = dotor([alphas,a])\n",
    "    ### END CODE HERE ###\n",
    "    \n",
    "    return context"
   ]
  },
  {
   "cell_type": "markdown",
   "metadata": {
    "id": "vcmC3WcQh3Mn"
   },
   "source": [
    "<a name='ex-2'></a>\n",
    "###  modelf\n",
    "\n",
    "Implement `modelf()` as explained in figure 1 and the instructions:\n",
    "\n",
    "* `modelf` first runs the input through a Bi-LSTM to get $[a^{<1>},a^{<2>}, ..., a^{<T_x>}]$. \n",
    "* Then, `modelf` calls `one_step_attention()` $T_y$ times using a `for` loop.  At each iteration of this loop:\n",
    "    - It gives the computed context vector $context^{<t>}$ to the post-attention LSTM.\n",
    "    - It runs the output of the post-attention LSTM through a dense layer with softmax activation.\n",
    "    - The softmax generates a prediction $\\hat{y}^{<t>}$.\n",
    "    \n",
    "Again, we have defined global layers that will share weights to be used in `modelf()`."
   ]
  },
  {
   "cell_type": "code",
   "execution_count": 14,
   "metadata": {
    "executionInfo": {
     "elapsed": 16949,
     "status": "ok",
     "timestamp": 1612468514159,
     "user": {
      "displayName": "Mubsi K",
      "photoUrl": "https://lh3.googleusercontent.com/a-/AOh14Gip7OjOkdNkKxKDyWEQAq1o8ccGN_HrBTGdqjgQ=s64",
      "userId": "08094225471505108399"
     },
     "user_tz": -300
    },
    "id": "5RHgmZrVh3Mo"
   },
   "outputs": [],
   "source": [
    "n_a = 32 # number of units for the pre-attention, bi-directional LSTM's hidden state 'a'\n",
    "n_s = 64 # number of units for the post-attention LSTM's hidden state \"s\"\n",
    "\n",
    "# Please note, this is the post attention LSTM cell.  \n",
    "post_activation_LSTM_cell = LSTM(n_s, return_state = True) # Please do not modify this global variable.\n",
    "output_layer = Dense(len(machine_vocab), activation=softmax)"
   ]
  },
  {
   "cell_type": "markdown",
   "metadata": {
    "id": "lGkKpb1Nh3Mo"
   },
   "source": [
    "Now you can use these layers $T_y$ times in a `for` loop to generate the outputs, and their parameters will not be reinitialized. You will have to carry out the following steps: \n",
    "\n",
    "1. Propagate the input `X` into a bi-directional LSTM.\n",
    "    * [Bidirectional](https://keras.io/layers/wrappers/#bidirectional) \n",
    "    * [LSTM](https://keras.io/layers/recurrent/#lstm)\n",
    "    * Remember that we want the LSTM to return a full sequence instead of just the last hidden state.  \n",
    "    \n",
    "Sample code:\n",
    "\n",
    "```Python\n",
    "sequence_of_hidden_states = Bidirectional(LSTM(units=..., return_sequences=...))(the_input_X)\n",
    "```\n",
    "    \n",
    "2. Iterate for $t = 0, \\cdots, T_y-1$: \n",
    "    1. Call `one_step_attention()`, passing in the sequence of hidden states $[a^{\\langle 1 \\rangle},a^{\\langle 2 \\rangle}, ..., a^{ \\langle T_x \\rangle}]$ from the pre-attention bi-directional LSTM, and the previous hidden state $s^{<t-1>}$ from the post-attention LSTM to calculate the context vector $context^{<t>}$.\n",
    "    2. Give $context^{<t>}$ to the post-attention LSTM cell. \n",
    "        - Remember to pass in the previous hidden-state $s^{\\langle t-1\\rangle}$ and cell-states $c^{\\langle t-1\\rangle}$ of this LSTM \n",
    "        * This outputs the new hidden state $s^{<t>}$ and the new cell state $c^{<t>}$.  \n",
    "\n",
    "        Sample code:\n",
    "        ```Python\n",
    "        next_hidden_state, _ , next_cell_state = \n",
    "            post_activation_LSTM_cell(inputs=..., initial_state=[prev_hidden_state, prev_cell_state])\n",
    "        ```   \n",
    "        Please note that the layer is actually the \"post attention LSTM cell\".  For the purposes of passing the automatic grader, please do not modify the naming of this global variable.  This will be fixed when we deploy updates to the automatic grader.\n",
    "    3. Apply a dense, softmax layer to $s^{<t>}$, get the output.  \n",
    "        Sample code:\n",
    "        ```Python\n",
    "        output = output_layer(inputs=...)\n",
    "        ```\n",
    "    4. Save the output by adding it to the list of outputs.\n",
    "\n",
    "3. Create your Keras model instance.\n",
    "    * It should have three inputs:\n",
    "        * `X`, the one-hot encoded inputs to the model, of shape ($T_{x}, humanVocabSize)$\n",
    "        * $s^{\\langle 0 \\rangle}$, the initial hidden state of the post-attention LSTM\n",
    "        * $c^{\\langle 0 \\rangle}$, the initial cell state of the post-attention LSTM\n",
    "    * The output is the list of outputs.  \n",
    "    Sample code\n",
    "    ```Python\n",
    "    model = Model(inputs=[...,...,...], outputs=...)\n",
    "    ```"
   ]
  },
  {
   "cell_type": "code",
   "execution_count": 15,
   "metadata": {
    "executionInfo": {
     "elapsed": 16948,
     "status": "ok",
     "timestamp": 1612468514160,
     "user": {
      "displayName": "Mubsi K",
      "photoUrl": "https://lh3.googleusercontent.com/a-/AOh14Gip7OjOkdNkKxKDyWEQAq1o8ccGN_HrBTGdqjgQ=s64",
      "userId": "08094225471505108399"
     },
     "user_tz": -300
    },
    "id": "qeKbeDOvh3Mo"
   },
   "outputs": [],
   "source": [
    "def modelf(Tx, Ty, n_a, n_s, human_vocab_size, machine_vocab_size):\n",
    "    \"\"\"\n",
    "    Arguments:\n",
    "    Tx -- length of the input sequence\n",
    "    Ty -- length of the output sequence\n",
    "    n_a -- hidden state size of the Bi-LSTM\n",
    "    n_s -- hidden state size of the post-attention LSTM\n",
    "    human_vocab_size -- size of the python dictionary \"human_vocab\"\n",
    "    machine_vocab_size -- size of the python dictionary \"machine_vocab\"\n",
    "\n",
    "    Returns:\n",
    "    model -- Keras model instance\n",
    "    \"\"\"\n",
    "    \n",
    "    # Define the inputs of your model with a shape (Tx,)\n",
    "    # Define s0 (initial hidden state) and c0 (initial cell state)\n",
    "    # for the decoder LSTM with shape (n_s,)\n",
    "    X = Input(shape=(Tx, human_vocab_size))\n",
    "    s0 = Input(shape=(n_s,), name='s0')\n",
    "    c0 = Input(shape=(n_s,), name='c0')\n",
    "    s = s0\n",
    "    c = c0\n",
    "    \n",
    "    # Initialize empty list of outputs\n",
    "    outputs = []\n",
    "    \n",
    "    ### START CODE HERE ###\n",
    "    \n",
    "    # Step 1: Define your pre-attention Bi-LSTM. (≈ 1 line)\n",
    "    a = Bidirectional(LSTM(n_a, return_sequences=True))(X)\n",
    "    \n",
    "    # Step 2: Iterate for Ty steps\n",
    "    for t in range(Ty):\n",
    "    \n",
    "        # Step 2.A: Perform one step of the attention mechanism to get back the context vector at step t (≈ 1 line)\n",
    "        context = one_step_attention(a, s)\n",
    "        \n",
    "        # Step 2.B: Apply the post-attention LSTM cell to the \"context\" vector.\n",
    "        # Don't forget to pass: initial_state = [hidden state, cell state] (≈ 1 line)\n",
    "        s, _, c = post_activation_LSTM_cell(context,initial_state=[s, c])\n",
    "        \n",
    "        # Step 2.C: Apply Dense layer to the hidden state output of the post-attention LSTM (≈ 1 line)\n",
    "        out = output_layer(s)\n",
    "        \n",
    "        # Step 2.D: Append \"out\" to the \"outputs\" list (≈ 1 line)\n",
    "        outputs.append(out)\n",
    "    \n",
    "    # Step 3: Create model instance taking three inputs and returning the list of outputs. (≈ 1 line)\n",
    "    model = Model(inputs=[X, s0, c0],outputs=outputs)\n",
    "    \n",
    "    ### END CODE HERE ###\n",
    "    \n",
    "    return model"
   ]
  },
  {
   "cell_type": "markdown",
   "metadata": {
    "id": "--RX7hSsh3Mo"
   },
   "source": [
    "Run the following cell to create your model."
   ]
  },
  {
   "cell_type": "code",
   "execution_count": 16,
   "metadata": {
    "executionInfo": {
     "elapsed": 20837,
     "status": "ok",
     "timestamp": 1612468518050,
     "user": {
      "displayName": "Mubsi K",
      "photoUrl": "https://lh3.googleusercontent.com/a-/AOh14Gip7OjOkdNkKxKDyWEQAq1o8ccGN_HrBTGdqjgQ=s64",
      "userId": "08094225471505108399"
     },
     "user_tz": -300
    },
    "id": "psdd-Ac6h3Mp"
   },
   "outputs": [],
   "source": [
    "model = modelf(Tx, Ty, n_a, n_s, len(human_vocab), len(machine_vocab))"
   ]
  },
  {
   "cell_type": "markdown",
   "metadata": {
    "id": "nUJw7Xohh3Mp"
   },
   "source": [
    "#### Troubleshooting Note\n",
    "* If you are getting repeated errors after an initially incorrect implementation of \"model\", but believe that you have corrected the error, you may still see error messages when building your model.  \n",
    "* A solution is to save and restart your kernel (or shutdown then restart your notebook), and re-run the cells."
   ]
  },
  {
   "cell_type": "code",
   "execution_count": 17,
   "metadata": {
    "colab": {
     "base_uri": "https://localhost:8080/"
    },
    "executionInfo": {
     "elapsed": 20835,
     "status": "ok",
     "timestamp": 1612468518050,
     "user": {
      "displayName": "Mubsi K",
      "photoUrl": "https://lh3.googleusercontent.com/a-/AOh14Gip7OjOkdNkKxKDyWEQAq1o8ccGN_HrBTGdqjgQ=s64",
      "userId": "08094225471505108399"
     },
     "user_tz": -300
    },
    "id": "tX0vaYmPh3Mq",
    "outputId": "336b9248-70b0-4379-be95-95366874c02a"
   },
   "outputs": [
    {
     "name": "stdout",
     "output_type": "stream",
     "text": [
      "Model: \"model\"\n",
      "__________________________________________________________________________________________________\n",
      " Layer (type)                   Output Shape         Param #     Connected to                     \n",
      "==================================================================================================\n",
      " input_1 (InputLayer)           [(None, 30, 37)]     0           []                               \n",
      "                                                                                                  \n",
      " s0 (InputLayer)                [(None, 64)]         0           []                               \n",
      "                                                                                                  \n",
      " bidirectional (Bidirectional)  (None, 30, 64)       17920       ['input_1[0][0]']                \n",
      "                                                                                                  \n",
      " repeat_vector (RepeatVector)   (None, 30, 64)       0           ['s0[0][0]',                     \n",
      "                                                                  'lstm[0][0]',                   \n",
      "                                                                  'lstm[1][0]',                   \n",
      "                                                                  'lstm[2][0]',                   \n",
      "                                                                  'lstm[3][0]',                   \n",
      "                                                                  'lstm[4][0]',                   \n",
      "                                                                  'lstm[5][0]',                   \n",
      "                                                                  'lstm[6][0]',                   \n",
      "                                                                  'lstm[7][0]',                   \n",
      "                                                                  'lstm[8][0]']                   \n",
      "                                                                                                  \n",
      " concatenate (Concatenate)      (None, 30, 128)      0           ['bidirectional[0][0]',          \n",
      "                                                                  'repeat_vector[0][0]',          \n",
      "                                                                  'bidirectional[0][0]',          \n",
      "                                                                  'repeat_vector[1][0]',          \n",
      "                                                                  'bidirectional[0][0]',          \n",
      "                                                                  'repeat_vector[2][0]',          \n",
      "                                                                  'bidirectional[0][0]',          \n",
      "                                                                  'repeat_vector[3][0]',          \n",
      "                                                                  'bidirectional[0][0]',          \n",
      "                                                                  'repeat_vector[4][0]',          \n",
      "                                                                  'bidirectional[0][0]',          \n",
      "                                                                  'repeat_vector[5][0]',          \n",
      "                                                                  'bidirectional[0][0]',          \n",
      "                                                                  'repeat_vector[6][0]',          \n",
      "                                                                  'bidirectional[0][0]',          \n",
      "                                                                  'repeat_vector[7][0]',          \n",
      "                                                                  'bidirectional[0][0]',          \n",
      "                                                                  'repeat_vector[8][0]',          \n",
      "                                                                  'bidirectional[0][0]',          \n",
      "                                                                  'repeat_vector[9][0]']          \n",
      "                                                                                                  \n",
      " dense (Dense)                  (None, 30, 10)       1290        ['concatenate[0][0]',            \n",
      "                                                                  'concatenate[1][0]',            \n",
      "                                                                  'concatenate[2][0]',            \n",
      "                                                                  'concatenate[3][0]',            \n",
      "                                                                  'concatenate[4][0]',            \n",
      "                                                                  'concatenate[5][0]',            \n",
      "                                                                  'concatenate[6][0]',            \n",
      "                                                                  'concatenate[7][0]',            \n",
      "                                                                  'concatenate[8][0]',            \n",
      "                                                                  'concatenate[9][0]']            \n",
      "                                                                                                  \n",
      " dense_1 (Dense)                (None, 30, 1)        11          ['dense[0][0]',                  \n",
      "                                                                  'dense[1][0]',                  \n",
      "                                                                  'dense[2][0]',                  \n",
      "                                                                  'dense[3][0]',                  \n",
      "                                                                  'dense[4][0]',                  \n",
      "                                                                  'dense[5][0]',                  \n",
      "                                                                  'dense[6][0]',                  \n",
      "                                                                  'dense[7][0]',                  \n",
      "                                                                  'dense[8][0]',                  \n",
      "                                                                  'dense[9][0]']                  \n",
      "                                                                                                  \n",
      " attention_weights (Activation)  (None, 30, 1)       0           ['dense_1[0][0]',                \n",
      "                                                                  'dense_1[1][0]',                \n",
      "                                                                  'dense_1[2][0]',                \n",
      "                                                                  'dense_1[3][0]',                \n",
      "                                                                  'dense_1[4][0]',                \n",
      "                                                                  'dense_1[5][0]',                \n",
      "                                                                  'dense_1[6][0]',                \n",
      "                                                                  'dense_1[7][0]',                \n",
      "                                                                  'dense_1[8][0]',                \n",
      "                                                                  'dense_1[9][0]']                \n",
      "                                                                                                  \n",
      " dot (Dot)                      (None, 1, 64)        0           ['attention_weights[0][0]',      \n",
      "                                                                  'bidirectional[0][0]',          \n",
      "                                                                  'attention_weights[1][0]',      \n",
      "                                                                  'bidirectional[0][0]',          \n",
      "                                                                  'attention_weights[2][0]',      \n",
      "                                                                  'bidirectional[0][0]',          \n",
      "                                                                  'attention_weights[3][0]',      \n",
      "                                                                  'bidirectional[0][0]',          \n",
      "                                                                  'attention_weights[4][0]',      \n"
     ]
    },
    {
     "name": "stdout",
     "output_type": "stream",
     "text": [
      "                                                                  'bidirectional[0][0]',          \n",
      "                                                                  'attention_weights[5][0]',      \n",
      "                                                                  'bidirectional[0][0]',          \n",
      "                                                                  'attention_weights[6][0]',      \n",
      "                                                                  'bidirectional[0][0]',          \n",
      "                                                                  'attention_weights[7][0]',      \n",
      "                                                                  'bidirectional[0][0]',          \n",
      "                                                                  'attention_weights[8][0]',      \n",
      "                                                                  'bidirectional[0][0]',          \n",
      "                                                                  'attention_weights[9][0]',      \n",
      "                                                                  'bidirectional[0][0]']          \n",
      "                                                                                                  \n",
      " c0 (InputLayer)                [(None, 64)]         0           []                               \n",
      "                                                                                                  \n",
      " lstm (LSTM)                    [(None, 64),         33024       ['dot[0][0]',                    \n",
      "                                 (None, 64),                      's0[0][0]',                     \n",
      "                                 (None, 64)]                      'c0[0][0]',                     \n",
      "                                                                  'dot[1][0]',                    \n",
      "                                                                  'lstm[0][0]',                   \n",
      "                                                                  'lstm[0][2]',                   \n",
      "                                                                  'dot[2][0]',                    \n",
      "                                                                  'lstm[1][0]',                   \n",
      "                                                                  'lstm[1][2]',                   \n",
      "                                                                  'dot[3][0]',                    \n",
      "                                                                  'lstm[2][0]',                   \n",
      "                                                                  'lstm[2][2]',                   \n",
      "                                                                  'dot[4][0]',                    \n",
      "                                                                  'lstm[3][0]',                   \n",
      "                                                                  'lstm[3][2]',                   \n",
      "                                                                  'dot[5][0]',                    \n",
      "                                                                  'lstm[4][0]',                   \n",
      "                                                                  'lstm[4][2]',                   \n",
      "                                                                  'dot[6][0]',                    \n",
      "                                                                  'lstm[5][0]',                   \n",
      "                                                                  'lstm[5][2]',                   \n",
      "                                                                  'dot[7][0]',                    \n",
      "                                                                  'lstm[6][0]',                   \n",
      "                                                                  'lstm[6][2]',                   \n",
      "                                                                  'dot[8][0]',                    \n",
      "                                                                  'lstm[7][0]',                   \n",
      "                                                                  'lstm[7][2]',                   \n",
      "                                                                  'dot[9][0]',                    \n",
      "                                                                  'lstm[8][0]',                   \n",
      "                                                                  'lstm[8][2]']                   \n",
      "                                                                                                  \n",
      " dense_2 (Dense)                (None, 11)           715         ['lstm[0][0]',                   \n",
      "                                                                  'lstm[1][0]',                   \n",
      "                                                                  'lstm[2][0]',                   \n",
      "                                                                  'lstm[3][0]',                   \n",
      "                                                                  'lstm[4][0]',                   \n",
      "                                                                  'lstm[5][0]',                   \n",
      "                                                                  'lstm[6][0]',                   \n",
      "                                                                  'lstm[7][0]',                   \n",
      "                                                                  'lstm[8][0]',                   \n",
      "                                                                  'lstm[9][0]']                   \n",
      "                                                                                                  \n",
      "==================================================================================================\n",
      "Total params: 52,960\n",
      "Trainable params: 52,960\n",
      "Non-trainable params: 0\n",
      "__________________________________________________________________________________________________\n"
     ]
    }
   ],
   "source": [
    "model.summary()"
   ]
  },
  {
   "cell_type": "markdown",
   "metadata": {
    "id": "8u3D9Odhh3Ms"
   },
   "source": [
    "<a name='ex-3'></a>\n",
    "### Compile the Model\n",
    "\n",
    "* After creating your model in Keras, you need to compile it and define the loss function, optimizer and metrics you want to use. \n",
    "    * Loss function: 'categorical_crossentropy'.\n",
    "    * Optimizer: [Adam](https://keras.io/optimizers/#adam) [optimizer](https://keras.io/optimizers/#usage-of-optimizers)\n",
    "        - learning rate = 0.005 \n",
    "        - $\\beta_1 = 0.9$\n",
    "        - $\\beta_2 = 0.999$\n",
    "        - decay = 0.01  \n",
    "    * metric: 'accuracy'\n",
    "    \n",
    "Sample code\n",
    "```Python\n",
    "optimizer = Adam(lr=..., beta_1=..., beta_2=..., decay=...)\n",
    "model.compile(optimizer=..., loss=..., metrics=[...])\n",
    "```"
   ]
  },
  {
   "cell_type": "code",
   "execution_count": 18,
   "metadata": {
    "executionInfo": {
     "elapsed": 20835,
     "status": "ok",
     "timestamp": 1612468518051,
     "user": {
      "displayName": "Mubsi K",
      "photoUrl": "https://lh3.googleusercontent.com/a-/AOh14Gip7OjOkdNkKxKDyWEQAq1o8ccGN_HrBTGdqjgQ=s64",
      "userId": "08094225471505108399"
     },
     "user_tz": -300
    },
    "id": "sBFRJ49rh3Ms"
   },
   "outputs": [
    {
     "name": "stderr",
     "output_type": "stream",
     "text": [
      "C:\\Users\\Dell\\anaconda3\\lib\\site-packages\\keras\\optimizer_v2\\adam.py:105: UserWarning: The `lr` argument is deprecated, use `learning_rate` instead.\n",
      "  super(Adam, self).__init__(name, **kwargs)\n"
     ]
    }
   ],
   "source": [
    "\n",
    "opt = Adam(lr=0.005, beta_1=0.9, beta_2=0.999, decay=0.01)\n",
    "model.compile(optimizer=opt, loss='categorical_crossentropy', metrics=['accuracy'])\n"
   ]
  },
  {
   "cell_type": "markdown",
   "metadata": {
    "id": "Qz71nM3oh3Ms"
   },
   "source": [
    "#### Define inputs and outputs, and fit the model\n",
    "The last step is to define all your inputs and outputs to fit the model:\n",
    "- You have input X of shape $(m = 10000, T_x = 30)$ containing the training examples.\n",
    "- You need to create `s0` and `c0` to initialize your `post_attention_LSTM_cell` with zeros.\n",
    "- Given the `model()` you coded, you need the \"outputs\" to be a list of 10 elements of shape (m, T_y). \n"
   ]
  },
  {
   "cell_type": "code",
   "execution_count": 19,
   "metadata": {
    "executionInfo": {
     "elapsed": 20833,
     "status": "ok",
     "timestamp": 1612468518051,
     "user": {
      "displayName": "Mubsi K",
      "photoUrl": "https://lh3.googleusercontent.com/a-/AOh14Gip7OjOkdNkKxKDyWEQAq1o8ccGN_HrBTGdqjgQ=s64",
      "userId": "08094225471505108399"
     },
     "user_tz": -300
    },
    "id": "USFiNKYhh3Mt"
   },
   "outputs": [],
   "source": [
    "s0 = np.zeros((m, n_s))\n",
    "c0 = np.zeros((m, n_s))\n",
    "outputs = list(Yoh.swapaxes(0,1))"
   ]
  },
  {
   "cell_type": "markdown",
   "metadata": {
    "id": "FVkITGi3h3Mt"
   },
   "source": [
    "Let's now fit the model and run it for one epoch."
   ]
  },
  {
   "cell_type": "code",
   "execution_count": 20,
   "metadata": {
    "colab": {
     "base_uri": "https://localhost:8080/"
    },
    "executionInfo": {
     "elapsed": 47944,
     "status": "ok",
     "timestamp": 1612468545172,
     "user": {
      "displayName": "Mubsi K",
      "photoUrl": "https://lh3.googleusercontent.com/a-/AOh14Gip7OjOkdNkKxKDyWEQAq1o8ccGN_HrBTGdqjgQ=s64",
      "userId": "08094225471505108399"
     },
     "user_tz": -300
    },
    "id": "tPuwY45bh3Mt",
    "outputId": "ec9dfc4c-1dcb-4577-d872-474f79c60d5f"
   },
   "outputs": [
    {
     "name": "stdout",
     "output_type": "stream",
     "text": [
      "Epoch 1/35\n",
      "100/100 [==============================] - 28s 73ms/step - loss: 16.8568 - dense_2_loss: 1.2165 - dense_2_1_loss: 1.0476 - dense_2_2_loss: 1.8065 - dense_2_3_loss: 2.6797 - dense_2_4_loss: 0.8188 - dense_2_5_loss: 1.2829 - dense_2_6_loss: 2.7155 - dense_2_7_loss: 0.9642 - dense_2_8_loss: 1.7357 - dense_2_9_loss: 2.5893 - dense_2_accuracy: 0.5163 - dense_2_1_accuracy: 0.7193 - dense_2_2_accuracy: 0.2857 - dense_2_3_accuracy: 0.0809 - dense_2_4_accuracy: 0.9274 - dense_2_5_accuracy: 0.3779 - dense_2_6_accuracy: 0.0532 - dense_2_7_accuracy: 0.9202 - dense_2_8_accuracy: 0.2212 - dense_2_9_accuracy: 0.0929\n",
      "Epoch 2/35\n",
      "100/100 [==============================] - 7s 71ms/step - loss: 9.0025 - dense_2_loss: 0.1690 - dense_2_1_loss: 0.1791 - dense_2_2_loss: 1.1082 - dense_2_3_loss: 2.1950 - dense_2_4_loss: 0.0258 - dense_2_5_loss: 0.2716 - dense_2_6_loss: 1.6891 - dense_2_7_loss: 0.0279 - dense_2_8_loss: 1.1775 - dense_2_9_loss: 2.1593 - dense_2_accuracy: 0.9610 - dense_2_1_accuracy: 0.9619 - dense_2_2_accuracy: 0.5070 - dense_2_3_accuracy: 0.1977 - dense_2_4_accuracy: 1.0000 - dense_2_5_accuracy: 0.9239 - dense_2_6_accuracy: 0.4169 - dense_2_7_accuracy: 1.0000 - dense_2_8_accuracy: 0.4696 - dense_2_9_accuracy: 0.2091\n",
      "Epoch 3/35\n",
      "100/100 [==============================] - 7s 71ms/step - loss: 7.2840 - dense_2_loss: 0.0950 - dense_2_1_loss: 0.1014 - dense_2_2_loss: 0.8490 - dense_2_3_loss: 1.8423 - dense_2_4_loss: 0.0159 - dense_2_5_loss: 0.1493 - dense_2_6_loss: 1.2295 - dense_2_7_loss: 0.0194 - dense_2_8_loss: 1.0481 - dense_2_9_loss: 1.9340 - dense_2_accuracy: 0.9711 - dense_2_1_accuracy: 0.9730 - dense_2_2_accuracy: 0.6765 - dense_2_3_accuracy: 0.3377 - dense_2_4_accuracy: 1.0000 - dense_2_5_accuracy: 0.9655 - dense_2_6_accuracy: 0.6090 - dense_2_7_accuracy: 1.0000 - dense_2_8_accuracy: 0.5369 - dense_2_9_accuracy: 0.2989\n",
      "Epoch 4/35\n",
      "100/100 [==============================] - 7s 71ms/step - loss: 6.1730 - dense_2_loss: 0.0795 - dense_2_1_loss: 0.0822 - dense_2_2_loss: 0.7085 - dense_2_3_loss: 1.5063 - dense_2_4_loss: 0.0132 - dense_2_5_loss: 0.1166 - dense_2_6_loss: 1.0073 - dense_2_7_loss: 0.0157 - dense_2_8_loss: 0.9373 - dense_2_9_loss: 1.7064 - dense_2_accuracy: 0.9745 - dense_2_1_accuracy: 0.9759 - dense_2_2_accuracy: 0.7390 - dense_2_3_accuracy: 0.4727 - dense_2_4_accuracy: 0.9998 - dense_2_5_accuracy: 0.9750 - dense_2_6_accuracy: 0.6905 - dense_2_7_accuracy: 1.0000 - dense_2_8_accuracy: 0.5910 - dense_2_9_accuracy: 0.3587\n",
      "Epoch 5/35\n",
      "100/100 [==============================] - 7s 74ms/step - loss: 5.3696 - dense_2_loss: 0.0726 - dense_2_1_loss: 0.0740 - dense_2_2_loss: 0.6307 - dense_2_3_loss: 1.2539 - dense_2_4_loss: 0.0104 - dense_2_5_loss: 0.1048 - dense_2_6_loss: 0.8521 - dense_2_7_loss: 0.0155 - dense_2_8_loss: 0.8470 - dense_2_9_loss: 1.5085 - dense_2_accuracy: 0.9769 - dense_2_1_accuracy: 0.9778 - dense_2_2_accuracy: 0.7651 - dense_2_3_accuracy: 0.5789 - dense_2_4_accuracy: 0.9999 - dense_2_5_accuracy: 0.9765 - dense_2_6_accuracy: 0.7412 - dense_2_7_accuracy: 0.9998 - dense_2_8_accuracy: 0.6451 - dense_2_9_accuracy: 0.4302\n",
      "Epoch 6/35\n",
      "100/100 [==============================] - 8s 75ms/step - loss: 4.5933 - dense_2_loss: 0.0689 - dense_2_1_loss: 0.0687 - dense_2_2_loss: 0.5610 - dense_2_3_loss: 1.0072 - dense_2_4_loss: 0.0087 - dense_2_5_loss: 0.0968 - dense_2_6_loss: 0.7310 - dense_2_7_loss: 0.0138 - dense_2_8_loss: 0.7412 - dense_2_9_loss: 1.2959 - dense_2_accuracy: 0.9793 - dense_2_1_accuracy: 0.9794 - dense_2_2_accuracy: 0.7944 - dense_2_3_accuracy: 0.6853 - dense_2_4_accuracy: 1.0000 - dense_2_5_accuracy: 0.9777 - dense_2_6_accuracy: 0.7780 - dense_2_7_accuracy: 1.0000 - dense_2_8_accuracy: 0.7075 - dense_2_9_accuracy: 0.5138\n",
      "Epoch 7/35\n",
      "100/100 [==============================] - 7s 74ms/step - loss: 3.9301 - dense_2_loss: 0.0638 - dense_2_1_loss: 0.0609 - dense_2_2_loss: 0.5064 - dense_2_3_loss: 0.8100 - dense_2_4_loss: 0.0082 - dense_2_5_loss: 0.0894 - dense_2_6_loss: 0.6341 - dense_2_7_loss: 0.0137 - dense_2_8_loss: 0.6434 - dense_2_9_loss: 1.1003 - dense_2_accuracy: 0.9806 - dense_2_1_accuracy: 0.9819 - dense_2_2_accuracy: 0.8184 - dense_2_3_accuracy: 0.7723 - dense_2_4_accuracy: 0.9999 - dense_2_5_accuracy: 0.9790 - dense_2_6_accuracy: 0.8173 - dense_2_7_accuracy: 1.0000 - dense_2_8_accuracy: 0.7601 - dense_2_9_accuracy: 0.5985\n",
      "Epoch 8/35\n",
      "100/100 [==============================] - 7s 74ms/step - loss: 3.3845 - dense_2_loss: 0.0582 - dense_2_1_loss: 0.0541 - dense_2_2_loss: 0.4528 - dense_2_3_loss: 0.6548 - dense_2_4_loss: 0.0072 - dense_2_5_loss: 0.0862 - dense_2_6_loss: 0.5647 - dense_2_7_loss: 0.0125 - dense_2_8_loss: 0.5673 - dense_2_9_loss: 0.9267 - dense_2_accuracy: 0.9824 - dense_2_1_accuracy: 0.9828 - dense_2_2_accuracy: 0.8429 - dense_2_3_accuracy: 0.8303 - dense_2_4_accuracy: 1.0000 - dense_2_5_accuracy: 0.9795 - dense_2_6_accuracy: 0.8461 - dense_2_7_accuracy: 1.0000 - dense_2_8_accuracy: 0.7943 - dense_2_9_accuracy: 0.6645\n",
      "Epoch 9/35\n",
      "100/100 [==============================] - 7s 73ms/step - loss: 2.9639 - dense_2_loss: 0.0535 - dense_2_1_loss: 0.0482 - dense_2_2_loss: 0.4087 - dense_2_3_loss: 0.5487 - dense_2_4_loss: 0.0063 - dense_2_5_loss: 0.0825 - dense_2_6_loss: 0.5032 - dense_2_7_loss: 0.0118 - dense_2_8_loss: 0.5023 - dense_2_9_loss: 0.7987 - dense_2_accuracy: 0.9839 - dense_2_1_accuracy: 0.9838 - dense_2_2_accuracy: 0.8598 - dense_2_3_accuracy: 0.8558 - dense_2_4_accuracy: 1.0000 - dense_2_5_accuracy: 0.9786 - dense_2_6_accuracy: 0.8691 - dense_2_7_accuracy: 0.9999 - dense_2_8_accuracy: 0.8204 - dense_2_9_accuracy: 0.7202\n",
      "Epoch 10/35\n",
      "100/100 [==============================] - 7s 69ms/step - loss: 2.6312 - dense_2_loss: 0.0483 - dense_2_1_loss: 0.0422 - dense_2_2_loss: 0.3728 - dense_2_3_loss: 0.4750 - dense_2_4_loss: 0.0057 - dense_2_5_loss: 0.0795 - dense_2_6_loss: 0.4506 - dense_2_7_loss: 0.0110 - dense_2_8_loss: 0.4551 - dense_2_9_loss: 0.6909 - dense_2_accuracy: 0.9855 - dense_2_1_accuracy: 0.9858 - dense_2_2_accuracy: 0.8718 - dense_2_3_accuracy: 0.8669 - dense_2_4_accuracy: 1.0000 - dense_2_5_accuracy: 0.9809 - dense_2_6_accuracy: 0.8859 - dense_2_7_accuracy: 1.0000 - dense_2_8_accuracy: 0.8399 - dense_2_9_accuracy: 0.7611\n",
      "Epoch 11/35\n",
      "100/100 [==============================] - 7s 70ms/step - loss: 2.3701 - dense_2_loss: 0.0441 - dense_2_1_loss: 0.0371 - dense_2_2_loss: 0.3430 - dense_2_3_loss: 0.4183 - dense_2_4_loss: 0.0050 - dense_2_5_loss: 0.0770 - dense_2_6_loss: 0.4092 - dense_2_7_loss: 0.0104 - dense_2_8_loss: 0.4120 - dense_2_9_loss: 0.6139 - dense_2_accuracy: 0.9866 - dense_2_1_accuracy: 0.9873 - dense_2_2_accuracy: 0.8789 - dense_2_3_accuracy: 0.8724 - dense_2_4_accuracy: 0.9999 - dense_2_5_accuracy: 0.9799 - dense_2_6_accuracy: 0.8937 - dense_2_7_accuracy: 1.0000 - dense_2_8_accuracy: 0.8531 - dense_2_9_accuracy: 0.7917\n",
      "Epoch 12/35\n",
      "100/100 [==============================] - 7s 71ms/step - loss: 2.1501 - dense_2_loss: 0.0397 - dense_2_1_loss: 0.0316 - dense_2_2_loss: 0.3187 - dense_2_3_loss: 0.3790 - dense_2_4_loss: 0.0043 - dense_2_5_loss: 0.0722 - dense_2_6_loss: 0.3746 - dense_2_7_loss: 0.0101 - dense_2_8_loss: 0.3790 - dense_2_9_loss: 0.5408 - dense_2_accuracy: 0.9890 - dense_2_1_accuracy: 0.9901 - dense_2_2_accuracy: 0.8841 - dense_2_3_accuracy: 0.8798 - dense_2_4_accuracy: 1.0000 - dense_2_5_accuracy: 0.9820 - dense_2_6_accuracy: 0.9036 - dense_2_7_accuracy: 1.0000 - dense_2_8_accuracy: 0.8700 - dense_2_9_accuracy: 0.8171\n",
      "Epoch 13/35\n",
      "100/100 [==============================] - 7s 70ms/step - loss: 1.9826 - dense_2_loss: 0.0363 - dense_2_1_loss: 0.0279 - dense_2_2_loss: 0.3003 - dense_2_3_loss: 0.3477 - dense_2_4_loss: 0.0040 - dense_2_5_loss: 0.0687 - dense_2_6_loss: 0.3475 - dense_2_7_loss: 0.0093 - dense_2_8_loss: 0.3458 - dense_2_9_loss: 0.4952 - dense_2_accuracy: 0.9901 - dense_2_1_accuracy: 0.9912 - dense_2_2_accuracy: 0.8872 - dense_2_3_accuracy: 0.8829 - dense_2_4_accuracy: 0.9999 - dense_2_5_accuracy: 0.9819 - dense_2_6_accuracy: 0.9098 - dense_2_7_accuracy: 1.0000 - dense_2_8_accuracy: 0.8852 - dense_2_9_accuracy: 0.8331\n",
      "Epoch 14/35\n"
     ]
    },
    {
     "name": "stdout",
     "output_type": "stream",
     "text": [
      "100/100 [==============================] - 7s 68ms/step - loss: 1.8419 - dense_2_loss: 0.0331 - dense_2_1_loss: 0.0241 - dense_2_2_loss: 0.2841 - dense_2_3_loss: 0.3228 - dense_2_4_loss: 0.0035 - dense_2_5_loss: 0.0655 - dense_2_6_loss: 0.3213 - dense_2_7_loss: 0.0089 - dense_2_8_loss: 0.3229 - dense_2_9_loss: 0.4557 - dense_2_accuracy: 0.9913 - dense_2_1_accuracy: 0.9929 - dense_2_2_accuracy: 0.8904 - dense_2_3_accuracy: 0.8849 - dense_2_4_accuracy: 0.9999 - dense_2_5_accuracy: 0.9832 - dense_2_6_accuracy: 0.9162 - dense_2_7_accuracy: 1.0000 - dense_2_8_accuracy: 0.8928 - dense_2_9_accuracy: 0.8445\n",
      "Epoch 15/35\n",
      "100/100 [==============================] - 7s 69ms/step - loss: 1.7303 - dense_2_loss: 0.0304 - dense_2_1_loss: 0.0214 - dense_2_2_loss: 0.2704 - dense_2_3_loss: 0.3063 - dense_2_4_loss: 0.0031 - dense_2_5_loss: 0.0623 - dense_2_6_loss: 0.3012 - dense_2_7_loss: 0.0083 - dense_2_8_loss: 0.2997 - dense_2_9_loss: 0.4272 - dense_2_accuracy: 0.9924 - dense_2_1_accuracy: 0.9939 - dense_2_2_accuracy: 0.8937 - dense_2_3_accuracy: 0.8878 - dense_2_4_accuracy: 1.0000 - dense_2_5_accuracy: 0.9836 - dense_2_6_accuracy: 0.9218 - dense_2_7_accuracy: 1.0000 - dense_2_8_accuracy: 0.9037 - dense_2_9_accuracy: 0.8595\n",
      "Epoch 16/35\n",
      "100/100 [==============================] - 7s 69ms/step - loss: 1.6334 - dense_2_loss: 0.0279 - dense_2_1_loss: 0.0184 - dense_2_2_loss: 0.2612 - dense_2_3_loss: 0.2877 - dense_2_4_loss: 0.0028 - dense_2_5_loss: 0.0602 - dense_2_6_loss: 0.2876 - dense_2_7_loss: 0.0079 - dense_2_8_loss: 0.2790 - dense_2_9_loss: 0.4008 - dense_2_accuracy: 0.9936 - dense_2_1_accuracy: 0.9957 - dense_2_2_accuracy: 0.8938 - dense_2_3_accuracy: 0.8903 - dense_2_4_accuracy: 0.9999 - dense_2_5_accuracy: 0.9837 - dense_2_6_accuracy: 0.9264 - dense_2_7_accuracy: 1.0000 - dense_2_8_accuracy: 0.9128 - dense_2_9_accuracy: 0.8631\n",
      "Epoch 17/35\n",
      "100/100 [==============================] - 7s 69ms/step - loss: 1.5544 - dense_2_loss: 0.0260 - dense_2_1_loss: 0.0164 - dense_2_2_loss: 0.2512 - dense_2_3_loss: 0.2760 - dense_2_4_loss: 0.0027 - dense_2_5_loss: 0.0571 - dense_2_6_loss: 0.2727 - dense_2_7_loss: 0.0076 - dense_2_8_loss: 0.2629 - dense_2_9_loss: 0.3818 - dense_2_accuracy: 0.9943 - dense_2_1_accuracy: 0.9959 - dense_2_2_accuracy: 0.8974 - dense_2_3_accuracy: 0.8938 - dense_2_4_accuracy: 0.9998 - dense_2_5_accuracy: 0.9849 - dense_2_6_accuracy: 0.9309 - dense_2_7_accuracy: 1.0000 - dense_2_8_accuracy: 0.9199 - dense_2_9_accuracy: 0.8708\n",
      "Epoch 18/35\n",
      "100/100 [==============================] - 7s 70ms/step - loss: 1.4843 - dense_2_loss: 0.0242 - dense_2_1_loss: 0.0149 - dense_2_2_loss: 0.2418 - dense_2_3_loss: 0.2661 - dense_2_4_loss: 0.0025 - dense_2_5_loss: 0.0554 - dense_2_6_loss: 0.2594 - dense_2_7_loss: 0.0070 - dense_2_8_loss: 0.2479 - dense_2_9_loss: 0.3651 - dense_2_accuracy: 0.9953 - dense_2_1_accuracy: 0.9963 - dense_2_2_accuracy: 0.8981 - dense_2_3_accuracy: 0.8961 - dense_2_4_accuracy: 0.9999 - dense_2_5_accuracy: 0.9843 - dense_2_6_accuracy: 0.9332 - dense_2_7_accuracy: 1.0000 - dense_2_8_accuracy: 0.9241 - dense_2_9_accuracy: 0.8738\n",
      "Epoch 19/35\n",
      "100/100 [==============================] - 7s 69ms/step - loss: 1.4246 - dense_2_loss: 0.0228 - dense_2_1_loss: 0.0135 - dense_2_2_loss: 0.2348 - dense_2_3_loss: 0.2561 - dense_2_4_loss: 0.0022 - dense_2_5_loss: 0.0537 - dense_2_6_loss: 0.2484 - dense_2_7_loss: 0.0068 - dense_2_8_loss: 0.2355 - dense_2_9_loss: 0.3508 - dense_2_accuracy: 0.9963 - dense_2_1_accuracy: 0.9971 - dense_2_2_accuracy: 0.9002 - dense_2_3_accuracy: 0.8970 - dense_2_4_accuracy: 1.0000 - dense_2_5_accuracy: 0.9846 - dense_2_6_accuracy: 0.9366 - dense_2_7_accuracy: 1.0000 - dense_2_8_accuracy: 0.9295 - dense_2_9_accuracy: 0.8777\n",
      "Epoch 20/35\n",
      "100/100 [==============================] - 7s 68ms/step - loss: 1.3747 - dense_2_loss: 0.0215 - dense_2_1_loss: 0.0121 - dense_2_2_loss: 0.2283 - dense_2_3_loss: 0.2499 - dense_2_4_loss: 0.0022 - dense_2_5_loss: 0.0519 - dense_2_6_loss: 0.2403 - dense_2_7_loss: 0.0064 - dense_2_8_loss: 0.2257 - dense_2_9_loss: 0.3365 - dense_2_accuracy: 0.9968 - dense_2_1_accuracy: 0.9981 - dense_2_2_accuracy: 0.9033 - dense_2_3_accuracy: 0.9002 - dense_2_4_accuracy: 0.9999 - dense_2_5_accuracy: 0.9857 - dense_2_6_accuracy: 0.9370 - dense_2_7_accuracy: 1.0000 - dense_2_8_accuracy: 0.9305 - dense_2_9_accuracy: 0.8855\n",
      "Epoch 21/35\n",
      "100/100 [==============================] - 7s 69ms/step - loss: 1.3207 - dense_2_loss: 0.0204 - dense_2_1_loss: 0.0113 - dense_2_2_loss: 0.2223 - dense_2_3_loss: 0.2427 - dense_2_4_loss: 0.0019 - dense_2_5_loss: 0.0502 - dense_2_6_loss: 0.2304 - dense_2_7_loss: 0.0060 - dense_2_8_loss: 0.2139 - dense_2_9_loss: 0.3215 - dense_2_accuracy: 0.9970 - dense_2_1_accuracy: 0.9983 - dense_2_2_accuracy: 0.9054 - dense_2_3_accuracy: 0.9004 - dense_2_4_accuracy: 1.0000 - dense_2_5_accuracy: 0.9862 - dense_2_6_accuracy: 0.9412 - dense_2_7_accuracy: 1.0000 - dense_2_8_accuracy: 0.9358 - dense_2_9_accuracy: 0.8878\n",
      "Epoch 22/35\n",
      "100/100 [==============================] - 7s 69ms/step - loss: 1.2785 - dense_2_loss: 0.0192 - dense_2_1_loss: 0.0102 - dense_2_2_loss: 0.2160 - dense_2_3_loss: 0.2369 - dense_2_4_loss: 0.0019 - dense_2_5_loss: 0.0487 - dense_2_6_loss: 0.2227 - dense_2_7_loss: 0.0059 - dense_2_8_loss: 0.2073 - dense_2_9_loss: 0.3098 - dense_2_accuracy: 0.9977 - dense_2_1_accuracy: 0.9992 - dense_2_2_accuracy: 0.9080 - dense_2_3_accuracy: 0.9007 - dense_2_4_accuracy: 0.9999 - dense_2_5_accuracy: 0.9866 - dense_2_6_accuracy: 0.9423 - dense_2_7_accuracy: 1.0000 - dense_2_8_accuracy: 0.9385 - dense_2_9_accuracy: 0.8901\n",
      "Epoch 23/35\n",
      "100/100 [==============================] - 7s 69ms/step - loss: 1.2377 - dense_2_loss: 0.0181 - dense_2_1_loss: 0.0095 - dense_2_2_loss: 0.2117 - dense_2_3_loss: 0.2302 - dense_2_4_loss: 0.0018 - dense_2_5_loss: 0.0473 - dense_2_6_loss: 0.2159 - dense_2_7_loss: 0.0056 - dense_2_8_loss: 0.1967 - dense_2_9_loss: 0.3009 - dense_2_accuracy: 0.9977 - dense_2_1_accuracy: 0.9991 - dense_2_2_accuracy: 0.9078 - dense_2_3_accuracy: 0.9067 - dense_2_4_accuracy: 1.0000 - dense_2_5_accuracy: 0.9864 - dense_2_6_accuracy: 0.9432 - dense_2_7_accuracy: 1.0000 - dense_2_8_accuracy: 0.9412 - dense_2_9_accuracy: 0.8949\n",
      "Epoch 24/35\n",
      "100/100 [==============================] - 7s 69ms/step - loss: 1.2021 - dense_2_loss: 0.0173 - dense_2_1_loss: 0.0089 - dense_2_2_loss: 0.2067 - dense_2_3_loss: 0.2255 - dense_2_4_loss: 0.0016 - dense_2_5_loss: 0.0464 - dense_2_6_loss: 0.2098 - dense_2_7_loss: 0.0052 - dense_2_8_loss: 0.1900 - dense_2_9_loss: 0.2907 - dense_2_accuracy: 0.9982 - dense_2_1_accuracy: 0.9994 - dense_2_2_accuracy: 0.9107 - dense_2_3_accuracy: 0.9075 - dense_2_4_accuracy: 1.0000 - dense_2_5_accuracy: 0.9865 - dense_2_6_accuracy: 0.9443 - dense_2_7_accuracy: 1.0000 - dense_2_8_accuracy: 0.9433 - dense_2_9_accuracy: 0.8969\n",
      "Epoch 25/35\n",
      "100/100 [==============================] - 7s 69ms/step - loss: 1.1669 - dense_2_loss: 0.0164 - dense_2_1_loss: 0.0082 - dense_2_2_loss: 0.2023 - dense_2_3_loss: 0.2203 - dense_2_4_loss: 0.0015 - dense_2_5_loss: 0.0449 - dense_2_6_loss: 0.2033 - dense_2_7_loss: 0.0052 - dense_2_8_loss: 0.1832 - dense_2_9_loss: 0.2817 - dense_2_accuracy: 0.9986 - dense_2_1_accuracy: 0.9993 - dense_2_2_accuracy: 0.9141 - dense_2_3_accuracy: 0.9088 - dense_2_4_accuracy: 1.0000 - dense_2_5_accuracy: 0.9865 - dense_2_6_accuracy: 0.9468 - dense_2_7_accuracy: 1.0000 - dense_2_8_accuracy: 0.9482 - dense_2_9_accuracy: 0.8984\n",
      "Epoch 26/35\n",
      "100/100 [==============================] - 7s 69ms/step - loss: 1.1380 - dense_2_loss: 0.0157 - dense_2_1_loss: 0.0077 - dense_2_2_loss: 0.1975 - dense_2_3_loss: 0.2166 - dense_2_4_loss: 0.0015 - dense_2_5_loss: 0.0439 - dense_2_6_loss: 0.1988 - dense_2_7_loss: 0.0049 - dense_2_8_loss: 0.1758 - dense_2_9_loss: 0.2754 - dense_2_accuracy: 0.9987 - dense_2_1_accuracy: 0.9997 - dense_2_2_accuracy: 0.9147 - dense_2_3_accuracy: 0.9091 - dense_2_4_accuracy: 0.9999 - dense_2_5_accuracy: 0.9875 - dense_2_6_accuracy: 0.9469 - dense_2_7_accuracy: 1.0000 - dense_2_8_accuracy: 0.9493 - dense_2_9_accuracy: 0.9014\n",
      "Epoch 27/35\n"
     ]
    },
    {
     "name": "stdout",
     "output_type": "stream",
     "text": [
      "100/100 [==============================] - 7s 69ms/step - loss: 1.1103 - dense_2_loss: 0.0151 - dense_2_1_loss: 0.0072 - dense_2_2_loss: 0.1942 - dense_2_3_loss: 0.2119 - dense_2_4_loss: 0.0014 - dense_2_5_loss: 0.0431 - dense_2_6_loss: 0.1945 - dense_2_7_loss: 0.0048 - dense_2_8_loss: 0.1719 - dense_2_9_loss: 0.2662 - dense_2_accuracy: 0.9986 - dense_2_1_accuracy: 0.9995 - dense_2_2_accuracy: 0.9178 - dense_2_3_accuracy: 0.9139 - dense_2_4_accuracy: 1.0000 - dense_2_5_accuracy: 0.9864 - dense_2_6_accuracy: 0.9475 - dense_2_7_accuracy: 1.0000 - dense_2_8_accuracy: 0.9493 - dense_2_9_accuracy: 0.9047\n",
      "Epoch 28/35\n",
      "100/100 [==============================] - 7s 70ms/step - loss: 1.0846 - dense_2_loss: 0.0144 - dense_2_1_loss: 0.0068 - dense_2_2_loss: 0.1892 - dense_2_3_loss: 0.2095 - dense_2_4_loss: 0.0013 - dense_2_5_loss: 0.0422 - dense_2_6_loss: 0.1886 - dense_2_7_loss: 0.0045 - dense_2_8_loss: 0.1665 - dense_2_9_loss: 0.2615 - dense_2_accuracy: 0.9989 - dense_2_1_accuracy: 0.9996 - dense_2_2_accuracy: 0.9196 - dense_2_3_accuracy: 0.9143 - dense_2_4_accuracy: 1.0000 - dense_2_5_accuracy: 0.9874 - dense_2_6_accuracy: 0.9481 - dense_2_7_accuracy: 1.0000 - dense_2_8_accuracy: 0.9525 - dense_2_9_accuracy: 0.9070\n",
      "Epoch 29/35\n",
      "100/100 [==============================] - 7s 69ms/step - loss: 1.0588 - dense_2_loss: 0.0139 - dense_2_1_loss: 0.0065 - dense_2_2_loss: 0.1861 - dense_2_3_loss: 0.2041 - dense_2_4_loss: 0.0013 - dense_2_5_loss: 0.0414 - dense_2_6_loss: 0.1852 - dense_2_7_loss: 0.0044 - dense_2_8_loss: 0.1621 - dense_2_9_loss: 0.2538 - dense_2_accuracy: 0.9990 - dense_2_1_accuracy: 0.9997 - dense_2_2_accuracy: 0.9218 - dense_2_3_accuracy: 0.9168 - dense_2_4_accuracy: 1.0000 - dense_2_5_accuracy: 0.9876 - dense_2_6_accuracy: 0.9506 - dense_2_7_accuracy: 1.0000 - dense_2_8_accuracy: 0.9514 - dense_2_9_accuracy: 0.9095\n",
      "Epoch 30/35\n",
      "100/100 [==============================] - 7s 70ms/step - loss: 1.0319 - dense_2_loss: 0.0133 - dense_2_1_loss: 0.0063 - dense_2_2_loss: 0.1816 - dense_2_3_loss: 0.2015 - dense_2_4_loss: 0.0012 - dense_2_5_loss: 0.0405 - dense_2_6_loss: 0.1812 - dense_2_7_loss: 0.0043 - dense_2_8_loss: 0.1564 - dense_2_9_loss: 0.2456 - dense_2_accuracy: 0.9991 - dense_2_1_accuracy: 0.9997 - dense_2_2_accuracy: 0.9238 - dense_2_3_accuracy: 0.9190 - dense_2_4_accuracy: 1.0000 - dense_2_5_accuracy: 0.9875 - dense_2_6_accuracy: 0.9494 - dense_2_7_accuracy: 1.0000 - dense_2_8_accuracy: 0.9553 - dense_2_9_accuracy: 0.9112\n",
      "Epoch 31/35\n",
      "100/100 [==============================] - 7s 69ms/step - loss: 1.0084 - dense_2_loss: 0.0127 - dense_2_1_loss: 0.0059 - dense_2_2_loss: 0.1789 - dense_2_3_loss: 0.1965 - dense_2_4_loss: 0.0012 - dense_2_5_loss: 0.0401 - dense_2_6_loss: 0.1779 - dense_2_7_loss: 0.0041 - dense_2_8_loss: 0.1513 - dense_2_9_loss: 0.2398 - dense_2_accuracy: 0.9992 - dense_2_1_accuracy: 0.9997 - dense_2_2_accuracy: 0.9257 - dense_2_3_accuracy: 0.9220 - dense_2_4_accuracy: 1.0000 - dense_2_5_accuracy: 0.9872 - dense_2_6_accuracy: 0.9512 - dense_2_7_accuracy: 1.0000 - dense_2_8_accuracy: 0.9555 - dense_2_9_accuracy: 0.9136\n",
      "Epoch 32/35\n",
      "100/100 [==============================] - 7s 69ms/step - loss: 0.9867 - dense_2_loss: 0.0123 - dense_2_1_loss: 0.0055 - dense_2_2_loss: 0.1751 - dense_2_3_loss: 0.1936 - dense_2_4_loss: 0.0012 - dense_2_5_loss: 0.0388 - dense_2_6_loss: 0.1739 - dense_2_7_loss: 0.0040 - dense_2_8_loss: 0.1472 - dense_2_9_loss: 0.2352 - dense_2_accuracy: 0.9992 - dense_2_1_accuracy: 0.9998 - dense_2_2_accuracy: 0.9303 - dense_2_3_accuracy: 0.9223 - dense_2_4_accuracy: 1.0000 - dense_2_5_accuracy: 0.9877 - dense_2_6_accuracy: 0.9517 - dense_2_7_accuracy: 1.0000 - dense_2_8_accuracy: 0.9575 - dense_2_9_accuracy: 0.9138\n",
      "Epoch 33/35\n",
      "100/100 [==============================] - 7s 70ms/step - loss: 0.9672 - dense_2_loss: 0.0119 - dense_2_1_loss: 0.0053 - dense_2_2_loss: 0.1717 - dense_2_3_loss: 0.1914 - dense_2_4_loss: 0.0010 - dense_2_5_loss: 0.0386 - dense_2_6_loss: 0.1708 - dense_2_7_loss: 0.0038 - dense_2_8_loss: 0.1429 - dense_2_9_loss: 0.2299 - dense_2_accuracy: 0.9994 - dense_2_1_accuracy: 0.9998 - dense_2_2_accuracy: 0.9319 - dense_2_3_accuracy: 0.9244 - dense_2_4_accuracy: 1.0000 - dense_2_5_accuracy: 0.9877 - dense_2_6_accuracy: 0.9524 - dense_2_7_accuracy: 1.0000 - dense_2_8_accuracy: 0.9585 - dense_2_9_accuracy: 0.9177\n",
      "Epoch 34/35\n",
      "100/100 [==============================] - 7s 70ms/step - loss: 0.9455 - dense_2_loss: 0.0114 - dense_2_1_loss: 0.0052 - dense_2_2_loss: 0.1681 - dense_2_3_loss: 0.1874 - dense_2_4_loss: 0.0010 - dense_2_5_loss: 0.0378 - dense_2_6_loss: 0.1672 - dense_2_7_loss: 0.0038 - dense_2_8_loss: 0.1396 - dense_2_9_loss: 0.2241 - dense_2_accuracy: 0.9995 - dense_2_1_accuracy: 0.9998 - dense_2_2_accuracy: 0.9367 - dense_2_3_accuracy: 0.9282 - dense_2_4_accuracy: 1.0000 - dense_2_5_accuracy: 0.9883 - dense_2_6_accuracy: 0.9546 - dense_2_7_accuracy: 1.0000 - dense_2_8_accuracy: 0.9595 - dense_2_9_accuracy: 0.9204\n",
      "Epoch 35/35\n",
      "100/100 [==============================] - 7s 69ms/step - loss: 0.9290 - dense_2_loss: 0.0110 - dense_2_1_loss: 0.0048 - dense_2_2_loss: 0.1642 - dense_2_3_loss: 0.1845 - dense_2_4_loss: 9.8935e-04 - dense_2_5_loss: 0.0380 - dense_2_6_loss: 0.1651 - dense_2_7_loss: 0.0037 - dense_2_8_loss: 0.1363 - dense_2_9_loss: 0.2203 - dense_2_accuracy: 0.9995 - dense_2_1_accuracy: 0.9997 - dense_2_2_accuracy: 0.9385 - dense_2_3_accuracy: 0.9302 - dense_2_4_accuracy: 1.0000 - dense_2_5_accuracy: 0.9878 - dense_2_6_accuracy: 0.9546 - dense_2_7_accuracy: 1.0000 - dense_2_8_accuracy: 0.9618 - dense_2_9_accuracy: 0.9219\n"
     ]
    },
    {
     "data": {
      "text/plain": [
       "<keras.callbacks.History at 0x19d181cbfa0>"
      ]
     },
     "execution_count": 20,
     "metadata": {},
     "output_type": "execute_result"
    }
   ],
   "source": [
    "model.fit([Xoh, s0, c0], outputs, epochs=35, batch_size=100)"
   ]
  },
  {
   "cell_type": "markdown",
   "metadata": {
    "id": "SUikskCoh3Mt"
   },
   "source": [
    "While training you can see the loss as well as the accuracy on each of the 10 positions of the output. The table below gives you an example of what the accuracies could be if the batch had 2 examples: \n",
    "\n",
    "\n",
    "<caption><center>Thus, `dense_2_acc_8: 0.89` means that you are predicting the 7th character of the output correctly 89% of the time in the current batch of data. </center></caption>\n",
    "\n",
    "\n",
    "We have run this model for longer, and saved the weights. Run the next cell to load our weights. (By training a model for several minutes, you should be able to obtain a model of similar accuracy, but loading our model will save you time.) "
   ]
  },
  {
   "cell_type": "code",
   "execution_count": 21,
   "metadata": {
    "executionInfo": {
     "elapsed": 47942,
     "status": "ok",
     "timestamp": 1612468545173,
     "user": {
      "displayName": "Mubsi K",
      "photoUrl": "https://lh3.googleusercontent.com/a-/AOh14Gip7OjOkdNkKxKDyWEQAq1o8ccGN_HrBTGdqjgQ=s64",
      "userId": "08094225471505108399"
     },
     "user_tz": -300
    },
    "id": "ooiZCOx0h3Mu"
   },
   "outputs": [],
   "source": [
    "#model.load_weights('models/model.h5')"
   ]
  },
  {
   "cell_type": "markdown",
   "metadata": {
    "id": "yUUD9yXxh3Mu"
   },
   "source": [
    "You can now see the results on new examples."
   ]
  },
  {
   "cell_type": "code",
   "execution_count": 22,
   "metadata": {
    "colab": {
     "base_uri": "https://localhost:8080/"
    },
    "executionInfo": {
     "elapsed": 53835,
     "status": "ok",
     "timestamp": 1612468551077,
     "user": {
      "displayName": "Mubsi K",
      "photoUrl": "https://lh3.googleusercontent.com/a-/AOh14Gip7OjOkdNkKxKDyWEQAq1o8ccGN_HrBTGdqjgQ=s64",
      "userId": "08094225471505108399"
     },
     "user_tz": -300
    },
    "id": "rQ8sd_cuh3Mv",
    "outputId": "c37e92ac-5c60-4caf-b843-6aaeaa37be25"
   },
   "outputs": [
    {
     "name": "stdout",
     "output_type": "stream",
     "text": [
      "source: 3 May 1979\n",
      "output: 1979-05-03 \n",
      "\n",
      "source: 5 April 09\n",
      "output: 2000-04-04 \n",
      "\n",
      "source: 21th of August 2016\n",
      "output: 2016-08-20 \n",
      "\n",
      "source: Tue 10 Jul 2007\n",
      "output: 2007-07-10 \n",
      "\n",
      "source: Saturday May 9 2018\n",
      "output: 2018-05-09 \n",
      "\n",
      "source: March 3 2001\n",
      "output: 2001-03-03 \n",
      "\n",
      "source: March 3rd 2001\n",
      "output: 2011-02-03 \n",
      "\n",
      "source: 1 March 2001\n",
      "output: 2011-03-01 \n",
      "\n"
     ]
    }
   ],
   "source": [
    "EXAMPLES = ['3 May 1979', '5 April 09', '21th of August 2016', 'Tue 10 Jul 2007', 'Saturday May 9 2018', 'March 3 2001', 'March 3rd 2001', '1 March 2001']\n",
    "s00 = np.zeros((1, n_s))\n",
    "c00 = np.zeros((1, n_s))\n",
    "for example in EXAMPLES:\n",
    "    source = string_to_int(example, Tx, human_vocab)\n",
    "    #print(source)\n",
    "    source = np.array(list(map(lambda x: to_categorical(x, num_classes=len(human_vocab)), source))).swapaxes(0,1)\n",
    "    source = np.swapaxes(source, 0, 1)\n",
    "    source = np.expand_dims(source, axis=0)\n",
    "    prediction = model.predict([source, s00, c00])\n",
    "    prediction = np.argmax(prediction, axis = -1)\n",
    "    output = [inv_machine_vocab[int(i)] for i in prediction]\n",
    "    print(\"source:\", example)\n",
    "    print(\"output:\", ''.join(output),\"\\n\")"
   ]
  },
  {
   "cell_type": "code",
   "execution_count": 23,
   "metadata": {},
   "outputs": [
    {
     "name": "stdout",
     "output_type": "stream",
     "text": [
      "source: 4th of july 2001\n",
      "output: 2001-07-04 \n",
      "\n"
     ]
    }
   ],
   "source": [
    "def translate_date(sentence):\n",
    "    source = string_to_int(sentence, Tx, human_vocab)\n",
    "    source = np.array(list(map(lambda x: to_categorical(x, num_classes=len(human_vocab)), source))).swapaxes(0,1)\n",
    "    source = np.swapaxes(source, 0, 1)\n",
    "    source = np.expand_dims(source, axis=0)\n",
    "    prediction = model.predict([source, s00, c00])\n",
    "    prediction = np.argmax(prediction, axis = -1)\n",
    "    output = [inv_machine_vocab[int(i)] for i in prediction]\n",
    "    print(\"source:\", sentence)\n",
    "    print(\"output:\", ''.join(output),\"\\n\")\n",
    "example = \"4th of july 2001\"\n",
    "translate_date(example)"
   ]
  },
  {
   "cell_type": "markdown",
   "metadata": {
    "id": "vjdEQiIDh3Mv"
   },
   "source": [
    "You can also change these examples to test with your own examples. The next part will give you a better sense of what the attention mechanism is doing--i.e., what part of the input the network is paying attention to when generating a particular output character. "
   ]
  },
  {
   "cell_type": "code",
   "execution_count": null,
   "metadata": {},
   "outputs": [],
   "source": []
  }
 ],
 "metadata": {
  "colab": {
   "collapsed_sections": [],
   "name": "Solution_Neural_machine_translation_with_attention_v4a.ipynb",
   "provenance": []
  },
  "coursera": {
   "schema_names": [
    "DLSC5W3-1A"
   ]
  },
  "kernelspec": {
   "display_name": "Python 3",
   "language": "python",
   "name": "python3"
  },
  "language_info": {
   "codemirror_mode": {
    "name": "ipython",
    "version": 3
   },
   "file_extension": ".py",
   "mimetype": "text/x-python",
   "name": "python",
   "nbconvert_exporter": "python",
   "pygments_lexer": "ipython3",
   "version": "3.8.8"
  }
 },
 "nbformat": 4,
 "nbformat_minor": 1
}
